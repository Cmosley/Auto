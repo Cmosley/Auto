{
 "cells": [
  {
   "cell_type": "markdown",
   "metadata": {},
   "source": [
    "# Time Series Basics"
   ]
  },
  {
   "cell_type": "markdown",
   "metadata": {},
   "source": [
    "## Correlated Stock Prices\n",
    "\n",
    "You're interested in the performance of a particular stock. You use the [autocorrelation function](http://pandas.pydata.org/pandas-docs/stable/generated/pandas.Series.autocorr.html) in Pandas to assess how autocorrelated your stock's values are.\n",
    "\n",
    "Autocorrelation makes explicit the idea of temporal correlation we discussed previously. Suppose we wanted to see how correlated a stock's prices are with the immediately preceding day's stock prices. \n",
    "\n",
    "| Day | Price | Price with Lag = 1 | Price with Lag = 2 |\n",
    "|-----|-------|--------------------|--------------------|\n",
    "| 1   | 25    | NA                 | NA                 |\n",
    "| 2   | 26    | 25                 | NA                 |\n",
    "| 3   | 28    | 26                 | 25                 |\n",
    "| 4   | 24    | 28                 | 26                 |\n",
    "| 5   | 23    | 24                 | 28                 |\n",
    "\n",
    "Autocorrelation with a lag of 1 will calculate the correlation between column \"Price\" and column \"Price with Lag = 1.\" Autocorrelation with a lag of $k$ will calculate the correlation between stock price and the stock price of $k$ days before in a similar manner.\n",
    "\n",
    "I build a loop that iterates through days (we'll assume our stock price is the closing price at every day) 1 to 365 to assess how correlated a stock price is with the stock price from $i$ days ago. (Sample code seen below.)\n",
    "\n",
    "```\n",
    "for i in range(1, 366):\n",
    "    print(df[stock_prices].autocorr(lag=i))\n",
    "```"
   ]
  },
  {
   "cell_type": "markdown",
   "metadata": {},
   "source": [
    "#### 1. Suppose my highest values of autocorrelation are found when $i = 1, 7, 30, 365$. What do each of these suggest about the performance of this particular stock?"
   ]
  },
  {
   "cell_type": "markdown",
   "metadata": {},
   "source": [
    "A: The stock price has some volality that looks to be cyclical in nature "
   ]
  },
  {
   "cell_type": "markdown",
   "metadata": {},
   "source": [
    "Stock prices vary quite rapidly. Looking at almost any plot of stock price over time, we'll see a very \"wiggly\" function that moves around erratically. Building a model for this can be difficult.\n",
    "\n",
    "One way to \"de-noise\" or \"smooth\" this is to create a [moving average](http://www.investopedia.com/terms/m/movingaverage.asp) of stock prices. Suppose I wanted to create a moving average of stock prices across $k$ days. In this case, I create a new column that takes the current day and $k-1$ previous days (for $k$ total days) and average the stock prices of these days.\n",
    "\n",
    "For example, I have a column of stock prices and a column associated with a moving average for three days. Then, my row for Day 5 includes the Day 5 stock price and the average of Day 3, Day 4, and Day 5 stock prices. \n",
    "\n",
    "| Day | Price | Moving Average k = 3 |\n",
    "|-----|-------|----------------------|\n",
    "| 1   | 25    | NA                   |\n",
    "| 2   | 26    | NA                   |\n",
    "| 3   | 28    | 26.33                |\n",
    "| 4   | 24    | 26                   |\n",
    "| 5   | 23    | 25                   |\n",
    "\n",
    "#### 2.  As the number of periods $k$ increases, how do I expect my plotted curve to change?"
   ]
  },
  {
   "cell_type": "markdown",
   "metadata": {},
   "source": [
    "A: It will be more smoothed out because the data points captured in the lag increases"
   ]
  },
  {
   "cell_type": "markdown",
   "metadata": {},
   "source": [
    "#### 3. Suppose we use our moving average to predict values of the stock price. As $k$ increases, how is the bias of our predictions affected? "
   ]
  },
  {
   "cell_type": "markdown",
   "metadata": {},
   "source": [
    "A: The lag is increased, so the higher k goes the less accurate the current forecast will be"
   ]
  },
  {
   "cell_type": "markdown",
   "metadata": {},
   "source": [
    "#### 4. As $k$ increases, how is the variance of our predictions affected?"
   ]
  },
  {
   "cell_type": "markdown",
   "metadata": {},
   "source": [
    "A: Variance is decreased because the lagged avg price is not susceptible to as much volatility "
   ]
  },
  {
   "cell_type": "markdown",
   "metadata": {},
   "source": [
    "## Stock price exploration "
   ]
  },
  {
   "cell_type": "markdown",
   "metadata": {},
   "source": [
    "#### Using the `yfinance` package, download stock data from the past three years for a company you are interested in. "
   ]
  },
  {
   "cell_type": "code",
   "execution_count": 2,
   "metadata": {},
   "outputs": [],
   "source": [
    "# pip install yfinance"
   ]
  },
  {
   "cell_type": "code",
   "execution_count": 3,
   "metadata": {},
   "outputs": [],
   "source": [
    "import yfinance as yf\n",
    "import pandas as pd\n",
    "import matplotlib as plt"
   ]
  },
  {
   "cell_type": "code",
   "execution_count": 4,
   "metadata": {},
   "outputs": [
    {
     "name": "stdout",
     "output_type": "stream",
     "text": [
      "[*********************100%***********************]  1 of 1 completed\n"
     ]
    }
   ],
   "source": [
    "df = yf.download('SNAP', start=\"2017-03-02\", end=\"2020-03-02\")"
   ]
  },
  {
   "cell_type": "markdown",
   "metadata": {},
   "source": [
    "#### Examine the data."
   ]
  },
  {
   "cell_type": "code",
   "execution_count": 5,
   "metadata": {},
   "outputs": [
    {
     "name": "stdout",
     "output_type": "stream",
     "text": [
      "<class 'pandas.core.frame.DataFrame'>\n",
      "DatetimeIndex: 754 entries, 2017-03-02 to 2020-02-28\n",
      "Data columns (total 6 columns):\n",
      " #   Column     Non-Null Count  Dtype  \n",
      "---  ------     --------------  -----  \n",
      " 0   Open       754 non-null    float64\n",
      " 1   High       754 non-null    float64\n",
      " 2   Low        754 non-null    float64\n",
      " 3   Close      754 non-null    float64\n",
      " 4   Adj Close  754 non-null    float64\n",
      " 5   Volume     754 non-null    int64  \n",
      "dtypes: float64(5), int64(1)\n",
      "memory usage: 41.2 KB\n"
     ]
    }
   ],
   "source": [
    "df.info()"
   ]
  },
  {
   "cell_type": "code",
   "execution_count": 6,
   "metadata": {},
   "outputs": [
    {
     "data": {
      "text/html": [
       "<div>\n",
       "<style scoped>\n",
       "    .dataframe tbody tr th:only-of-type {\n",
       "        vertical-align: middle;\n",
       "    }\n",
       "\n",
       "    .dataframe tbody tr th {\n",
       "        vertical-align: top;\n",
       "    }\n",
       "\n",
       "    .dataframe thead th {\n",
       "        text-align: right;\n",
       "    }\n",
       "</style>\n",
       "<table border=\"1\" class=\"dataframe\">\n",
       "  <thead>\n",
       "    <tr style=\"text-align: right;\">\n",
       "      <th></th>\n",
       "      <th>Open</th>\n",
       "      <th>High</th>\n",
       "      <th>Low</th>\n",
       "      <th>Close</th>\n",
       "      <th>Adj Close</th>\n",
       "      <th>Volume</th>\n",
       "    </tr>\n",
       "    <tr>\n",
       "      <th>Date</th>\n",
       "      <th></th>\n",
       "      <th></th>\n",
       "      <th></th>\n",
       "      <th></th>\n",
       "      <th></th>\n",
       "      <th></th>\n",
       "    </tr>\n",
       "  </thead>\n",
       "  <tbody>\n",
       "    <tr>\n",
       "      <th>2017-03-02</th>\n",
       "      <td>24.000000</td>\n",
       "      <td>26.049999</td>\n",
       "      <td>23.500000</td>\n",
       "      <td>24.48</td>\n",
       "      <td>24.48</td>\n",
       "      <td>217048900</td>\n",
       "    </tr>\n",
       "    <tr>\n",
       "      <th>2017-03-03</th>\n",
       "      <td>26.389999</td>\n",
       "      <td>29.440001</td>\n",
       "      <td>26.059999</td>\n",
       "      <td>27.09</td>\n",
       "      <td>27.09</td>\n",
       "      <td>148166400</td>\n",
       "    </tr>\n",
       "  </tbody>\n",
       "</table>\n",
       "</div>"
      ],
      "text/plain": [
       "                 Open       High        Low  Close  Adj Close     Volume\n",
       "Date                                                                    \n",
       "2017-03-02  24.000000  26.049999  23.500000  24.48      24.48  217048900\n",
       "2017-03-03  26.389999  29.440001  26.059999  27.09      27.09  148166400"
      ]
     },
     "execution_count": 6,
     "metadata": {},
     "output_type": "execute_result"
    }
   ],
   "source": [
    "df.head(2)"
   ]
  },
  {
   "cell_type": "markdown",
   "metadata": {},
   "source": [
    "#### We'll be working with the 'Adj Close' column. Rename that column 'price' and make your DataFrame just that column and the datetime index. "
   ]
  },
  {
   "cell_type": "code",
   "execution_count": 7,
   "metadata": {},
   "outputs": [],
   "source": [
    "df.rename(columns={'Adj Close' : \"price\"}, inplace=True )"
   ]
  },
  {
   "cell_type": "code",
   "execution_count": 8,
   "metadata": {},
   "outputs": [],
   "source": [
    "df_small = df['price']"
   ]
  },
  {
   "cell_type": "markdown",
   "metadata": {},
   "source": [
    "#### Make a column that is the `price` of the previous day."
   ]
  },
  {
   "cell_type": "code",
   "execution_count": 9,
   "metadata": {},
   "outputs": [],
   "source": [
    "df_small = pd.DataFrame(df_small)"
   ]
  },
  {
   "cell_type": "code",
   "execution_count": 10,
   "metadata": {},
   "outputs": [],
   "source": [
    "df_small['lag_1'] = df_small['price'].shift(1)"
   ]
  },
  {
   "cell_type": "code",
   "execution_count": 11,
   "metadata": {},
   "outputs": [
    {
     "data": {
      "text/html": [
       "<div>\n",
       "<style scoped>\n",
       "    .dataframe tbody tr th:only-of-type {\n",
       "        vertical-align: middle;\n",
       "    }\n",
       "\n",
       "    .dataframe tbody tr th {\n",
       "        vertical-align: top;\n",
       "    }\n",
       "\n",
       "    .dataframe thead th {\n",
       "        text-align: right;\n",
       "    }\n",
       "</style>\n",
       "<table border=\"1\" class=\"dataframe\">\n",
       "  <thead>\n",
       "    <tr style=\"text-align: right;\">\n",
       "      <th></th>\n",
       "      <th>price</th>\n",
       "      <th>lag_1</th>\n",
       "    </tr>\n",
       "    <tr>\n",
       "      <th>Date</th>\n",
       "      <th></th>\n",
       "      <th></th>\n",
       "    </tr>\n",
       "  </thead>\n",
       "  <tbody>\n",
       "    <tr>\n",
       "      <th>2017-03-02</th>\n",
       "      <td>24.480000</td>\n",
       "      <td>NaN</td>\n",
       "    </tr>\n",
       "    <tr>\n",
       "      <th>2017-03-03</th>\n",
       "      <td>27.090000</td>\n",
       "      <td>24.480000</td>\n",
       "    </tr>\n",
       "    <tr>\n",
       "      <th>2017-03-06</th>\n",
       "      <td>23.770000</td>\n",
       "      <td>27.090000</td>\n",
       "    </tr>\n",
       "    <tr>\n",
       "      <th>2017-03-07</th>\n",
       "      <td>21.440001</td>\n",
       "      <td>23.770000</td>\n",
       "    </tr>\n",
       "    <tr>\n",
       "      <th>2017-03-08</th>\n",
       "      <td>22.809999</td>\n",
       "      <td>21.440001</td>\n",
       "    </tr>\n",
       "    <tr>\n",
       "      <th>...</th>\n",
       "      <td>...</td>\n",
       "      <td>...</td>\n",
       "    </tr>\n",
       "    <tr>\n",
       "      <th>2020-02-24</th>\n",
       "      <td>16.150000</td>\n",
       "      <td>16.700001</td>\n",
       "    </tr>\n",
       "    <tr>\n",
       "      <th>2020-02-25</th>\n",
       "      <td>15.890000</td>\n",
       "      <td>16.150000</td>\n",
       "    </tr>\n",
       "    <tr>\n",
       "      <th>2020-02-26</th>\n",
       "      <td>15.670000</td>\n",
       "      <td>15.890000</td>\n",
       "    </tr>\n",
       "    <tr>\n",
       "      <th>2020-02-27</th>\n",
       "      <td>14.660000</td>\n",
       "      <td>15.670000</td>\n",
       "    </tr>\n",
       "    <tr>\n",
       "      <th>2020-02-28</th>\n",
       "      <td>14.170000</td>\n",
       "      <td>14.660000</td>\n",
       "    </tr>\n",
       "  </tbody>\n",
       "</table>\n",
       "<p>754 rows × 2 columns</p>\n",
       "</div>"
      ],
      "text/plain": [
       "                price      lag_1\n",
       "Date                            \n",
       "2017-03-02  24.480000        NaN\n",
       "2017-03-03  27.090000  24.480000\n",
       "2017-03-06  23.770000  27.090000\n",
       "2017-03-07  21.440001  23.770000\n",
       "2017-03-08  22.809999  21.440001\n",
       "...               ...        ...\n",
       "2020-02-24  16.150000  16.700001\n",
       "2020-02-25  15.890000  16.150000\n",
       "2020-02-26  15.670000  15.890000\n",
       "2020-02-27  14.660000  15.670000\n",
       "2020-02-28  14.170000  14.660000\n",
       "\n",
       "[754 rows x 2 columns]"
      ]
     },
     "execution_count": 11,
     "metadata": {},
     "output_type": "execute_result"
    }
   ],
   "source": [
    "df_small"
   ]
  },
  {
   "cell_type": "markdown",
   "metadata": {},
   "source": [
    "#### Split the DataFrame into training and test sets so that the test set is the most recent year of data (you can use pandas slicing, scikit-learn, or sktime packages to do this)."
   ]
  },
  {
   "cell_type": "code",
   "execution_count": 12,
   "metadata": {},
   "outputs": [],
   "source": [
    "train = df_small.loc['2017-03-02':'2019-03-02']\n",
    "test = df_small.loc['2019-03-03': '2020-03-03'] "
   ]
  },
  {
   "cell_type": "markdown",
   "metadata": {},
   "source": [
    "#### Plot the stock price with different colors for the training and test sets."
   ]
  },
  {
   "cell_type": "code",
   "execution_count": 13,
   "metadata": {},
   "outputs": [
    {
     "data": {
      "image/png": "[encoded data removed]",
      "text/plain": [
       "<Figure size 1080x720 with 1 Axes>"
      ]
     },
     "metadata": {
      "needs_background": "light"
     },
     "output_type": "display_data"
    }
   ],
   "source": [
    "train['price'].plot()\n",
    "test['price'].plot(figsize=(15,10), title='Stock Price');"
   ]
  },
  {
   "cell_type": "code",
   "execution_count": null,
   "metadata": {},
   "outputs": [],
   "source": []
  },
  {
   "cell_type": "markdown",
   "metadata": {},
   "source": [
    "#### Find the autocorrelation of the training data."
   ]
  },
  {
   "cell_type": "code",
   "execution_count": 14,
   "metadata": {},
   "outputs": [
    {
     "data": {
      "text/plain": [
       "0.990706424091793"
      ]
     },
     "execution_count": 14,
     "metadata": {},
     "output_type": "execute_result"
    }
   ],
   "source": [
    "train['price'].autocorr()"
   ]
  },
  {
   "cell_type": "markdown",
   "metadata": {},
   "source": [
    "#### Plot the autocorrelation using statsmodels `plot_acf`."
   ]
  },
  {
   "cell_type": "code",
   "execution_count": 15,
   "metadata": {},
   "outputs": [],
   "source": [
    "import statsmodels as sm\n",
    "from statsmodels.graphics.tsaplots import plot_acf, plot_pacf\n"
   ]
  },
  {
   "cell_type": "code",
   "execution_count": 16,
   "metadata": {},
   "outputs": [
    {
     "data": {
      "image/png": "[encoded data removed]",
      "text/plain": [
       "<Figure size 432x288 with 1 Axes>"
      ]
     },
     "metadata": {
      "needs_background": "light"
     },
     "output_type": "display_data"
    }
   ],
   "source": [
    "plot_acf(train['price']);"
   ]
  },
  {
   "cell_type": "markdown",
   "metadata": {},
   "source": [
    "#### Plot the partial autocorrelation values using statsmodels `plot_pacf`."
   ]
  },
  {
   "cell_type": "code",
   "execution_count": 17,
   "metadata": {},
   "outputs": [
    {
     "data": {
      "image/png": "[encoded data removed]",
      "text/plain": [
       "<Figure size 432x288 with 1 Axes>"
      ]
     },
     "metadata": {
      "needs_background": "light"
     },
     "output_type": "display_data"
    }
   ],
   "source": [
    "plot_pacf(train['price']);"
   ]
  },
  {
   "cell_type": "markdown",
   "metadata": {},
   "source": [
    "#### Do any values show high autocorrelation?"
   ]
  },
  {
   "cell_type": "markdown",
   "metadata": {},
   "source": [
    "yes, the first two lollipop sticks have high ac"
   ]
  },
  {
   "cell_type": "markdown",
   "metadata": {},
   "source": [
    "#### Make a baseline model that is just the last value from the training set."
   ]
  },
  {
   "cell_type": "code",
   "execution_count": 18,
   "metadata": {},
   "outputs": [],
   "source": [
    "df_preds = test.copy()"
   ]
  },
  {
   "cell_type": "code",
   "execution_count": 19,
   "metadata": {},
   "outputs": [],
   "source": [
    "df_preds['last'] = train['price'].iloc[-1]"
   ]
  },
  {
   "cell_type": "code",
   "execution_count": 20,
   "metadata": {},
   "outputs": [
    {
     "data": {
      "text/html": [
       "<div>\n",
       "<style scoped>\n",
       "    .dataframe tbody tr th:only-of-type {\n",
       "        vertical-align: middle;\n",
       "    }\n",
       "\n",
       "    .dataframe tbody tr th {\n",
       "        vertical-align: top;\n",
       "    }\n",
       "\n",
       "    .dataframe thead th {\n",
       "        text-align: right;\n",
       "    }\n",
       "</style>\n",
       "<table border=\"1\" class=\"dataframe\">\n",
       "  <thead>\n",
       "    <tr style=\"text-align: right;\">\n",
       "      <th></th>\n",
       "      <th>price</th>\n",
       "      <th>lag_1</th>\n",
       "      <th>last</th>\n",
       "    </tr>\n",
       "    <tr>\n",
       "      <th>Date</th>\n",
       "      <th></th>\n",
       "      <th></th>\n",
       "      <th></th>\n",
       "    </tr>\n",
       "  </thead>\n",
       "  <tbody>\n",
       "    <tr>\n",
       "      <th>2019-03-04</th>\n",
       "      <td>9.92</td>\n",
       "      <td>9.800000</td>\n",
       "      <td>9.8</td>\n",
       "    </tr>\n",
       "    <tr>\n",
       "      <th>2019-03-05</th>\n",
       "      <td>10.08</td>\n",
       "      <td>9.920000</td>\n",
       "      <td>9.8</td>\n",
       "    </tr>\n",
       "    <tr>\n",
       "      <th>2019-03-06</th>\n",
       "      <td>9.87</td>\n",
       "      <td>10.080000</td>\n",
       "      <td>9.8</td>\n",
       "    </tr>\n",
       "    <tr>\n",
       "      <th>2019-03-07</th>\n",
       "      <td>9.49</td>\n",
       "      <td>9.870000</td>\n",
       "      <td>9.8</td>\n",
       "    </tr>\n",
       "    <tr>\n",
       "      <th>2019-03-08</th>\n",
       "      <td>9.48</td>\n",
       "      <td>9.490000</td>\n",
       "      <td>9.8</td>\n",
       "    </tr>\n",
       "    <tr>\n",
       "      <th>...</th>\n",
       "      <td>...</td>\n",
       "      <td>...</td>\n",
       "      <td>...</td>\n",
       "    </tr>\n",
       "    <tr>\n",
       "      <th>2020-02-24</th>\n",
       "      <td>16.15</td>\n",
       "      <td>16.700001</td>\n",
       "      <td>9.8</td>\n",
       "    </tr>\n",
       "    <tr>\n",
       "      <th>2020-02-25</th>\n",
       "      <td>15.89</td>\n",
       "      <td>16.150000</td>\n",
       "      <td>9.8</td>\n",
       "    </tr>\n",
       "    <tr>\n",
       "      <th>2020-02-26</th>\n",
       "      <td>15.67</td>\n",
       "      <td>15.890000</td>\n",
       "      <td>9.8</td>\n",
       "    </tr>\n",
       "    <tr>\n",
       "      <th>2020-02-27</th>\n",
       "      <td>14.66</td>\n",
       "      <td>15.670000</td>\n",
       "      <td>9.8</td>\n",
       "    </tr>\n",
       "    <tr>\n",
       "      <th>2020-02-28</th>\n",
       "      <td>14.17</td>\n",
       "      <td>14.660000</td>\n",
       "      <td>9.8</td>\n",
       "    </tr>\n",
       "  </tbody>\n",
       "</table>\n",
       "<p>251 rows × 3 columns</p>\n",
       "</div>"
      ],
      "text/plain": [
       "            price      lag_1  last\n",
       "Date                              \n",
       "2019-03-04   9.92   9.800000   9.8\n",
       "2019-03-05  10.08   9.920000   9.8\n",
       "2019-03-06   9.87  10.080000   9.8\n",
       "2019-03-07   9.49   9.870000   9.8\n",
       "2019-03-08   9.48   9.490000   9.8\n",
       "...           ...        ...   ...\n",
       "2020-02-24  16.15  16.700001   9.8\n",
       "2020-02-25  15.89  16.150000   9.8\n",
       "2020-02-26  15.67  15.890000   9.8\n",
       "2020-02-27  14.66  15.670000   9.8\n",
       "2020-02-28  14.17  14.660000   9.8\n",
       "\n",
       "[251 rows x 3 columns]"
      ]
     },
     "execution_count": 20,
     "metadata": {},
     "output_type": "execute_result"
    }
   ],
   "source": [
    "df_preds"
   ]
  },
  {
   "cell_type": "code",
   "execution_count": 21,
   "metadata": {},
   "outputs": [],
   "source": [
    "from sklearn.metrics import mean_absolute_error as mae\n",
    "import numpy as np"
   ]
  },
  {
   "cell_type": "markdown",
   "metadata": {},
   "source": [
    "#### Score it on the test set using MAE"
   ]
  },
  {
   "cell_type": "code",
   "execution_count": 22,
   "metadata": {},
   "outputs": [
    {
     "data": {
      "text/plain": [
       "4.74"
      ]
     },
     "execution_count": 22,
     "metadata": {},
     "output_type": "execute_result"
    }
   ],
   "source": [
    "mae_base = mae(test['price'], df_preds['last'])\n",
    "mae_base = np.round(mae_base, 2)\n",
    "mae_base"
   ]
  },
  {
   "cell_type": "markdown",
   "metadata": {},
   "source": [
    "#### Using scikit-learn's LinearRegression class, make a model to predict the stock price based on the stock price from the day before."
   ]
  },
  {
   "cell_type": "code",
   "execution_count": 23,
   "metadata": {},
   "outputs": [],
   "source": [
    "from sklearn.linear_model import LinearRegression"
   ]
  },
  {
   "cell_type": "code",
   "execution_count": null,
   "metadata": {},
   "outputs": [],
   "source": [
    "train"
   ]
  },
  {
   "cell_type": "code",
   "execution_count": 54,
   "metadata": {},
   "outputs": [],
   "source": [
    "X = train['lag_1'][1:].values.reshape(1,-1)\n",
    "y = train['price'].values.reshape(1,-1)"
   ]
  },
  {
   "cell_type": "code",
   "execution_count": 55,
   "metadata": {
    "collapsed": true,
    "jupyter": {
     "outputs_hidden": true
    }
   },
   "outputs": [
    {
     "data": {
      "text/plain": [
       "array([[24.47999954, 27.09000015, 23.77000046, 21.44000053, 22.80999947,\n",
       "        22.70999908, 22.06999969, 21.09000015, 20.57999992, 20.77000046,\n",
       "        19.88999939, 19.54000092, 19.93000031, 20.37999916, 21.81999969,\n",
       "        23.12999916, 22.73999977, 23.82999992, 22.20999908, 22.54999924,\n",
       "        22.22999954, 22.53000069, 22.35000038, 22.13999939, 20.70000076,\n",
       "        20.56999969, 20.81999969, 20.96999931, 20.70000076, 20.21999931,\n",
       "        20.19000053, 19.94000053, 20.54999924, 20.62000084, 21.14999962,\n",
       "        20.93000031, 21.20000076, 21.34000015, 21.57999992, 22.01000023,\n",
       "        22.54999924, 22.20999908, 21.98999977, 21.81999969, 22.59000015,\n",
       "        23.19000053, 22.45999908, 23.31999969, 22.97999954, 18.04999924,\n",
       "        19.13999939, 20.73999977, 20.78000069, 19.89999962, 20.27000046,\n",
       "        20.        , 20.07999992, 20.03000069, 20.53000069, 21.93000031,\n",
       "        21.21999931, 21.45000076, 21.20999908, 21.34000015, 21.09000015,\n",
       "        20.20999908, 20.36000061, 19.55999947, 18.85000038, 18.07999992,\n",
       "        18.20000076, 18.10000038, 17.87999916, 17.        , 17.54000092,\n",
       "        17.87999916, 17.30999947, 17.27000046, 17.63999939, 17.54000092,\n",
       "        17.29000092, 17.34000015, 17.76000023, 17.88999939, 17.77000046,\n",
       "        17.59000015, 17.31999969, 17.30999947, 17.18000031, 16.98999977,\n",
       "        15.47000027, 15.23999977, 15.68999958, 15.27000046, 15.13000011,\n",
       "        14.72999954, 14.97000027, 14.89000034, 14.47999954, 14.07999992,\n",
       "        13.89000034, 13.39999962, 14.        , 13.81000042, 13.67000008,\n",
       "        13.10000038, 12.64999962, 12.93000031, 13.52000046, 13.39000034,\n",
       "        13.02000046, 13.56000042, 13.77000046, 11.82999992, 12.60000038,\n",
       "        12.73999977, 13.11999989, 13.35000038, 14.01000023, 13.57999992,\n",
       "        14.52999973, 15.09000015, 14.52999973, 14.77999973, 15.18999958,\n",
       "        14.98999977, 14.96000004, 14.51000023, 14.27000046, 14.48999977,\n",
       "        14.5       , 15.14999962, 15.34000015, 15.27000046, 15.13000011,\n",
       "        15.02999973, 14.90999985, 15.25      , 14.92000008, 14.72000027,\n",
       "        14.15999985, 13.77000046, 13.69999981, 13.22000027, 13.90999985,\n",
       "        14.11999989, 14.44999981, 14.53999996, 14.88000011, 14.64000034,\n",
       "        14.52999973, 14.47999954, 14.78999996, 14.71000004, 14.34000015,\n",
       "        15.97999954, 16.54999924, 16.5       , 16.06999969, 16.09000015,\n",
       "        15.75      , 15.25      , 15.56000042, 14.97000027, 14.59000015,\n",
       "        14.15999985, 14.39000034, 15.43999958, 15.68000031, 15.34000015,\n",
       "        14.51000023, 14.55000019, 15.27000046, 14.82999992, 15.11999989,\n",
       "        12.90999985, 12.38000011, 12.76000023, 12.39999962, 12.56999969,\n",
       "        12.46000004, 12.56000042, 12.98999977, 12.40999985, 12.34000015,\n",
       "        12.61999989, 12.97000027, 13.06000042, 13.60999966, 13.69999981,\n",
       "        13.77999973, 13.86999989, 13.56999969, 14.93999958, 14.60000038,\n",
       "        14.69999981, 15.06999969, 16.21999931, 15.93000031, 15.96000004,\n",
       "        16.04000092, 15.75      , 16.10000038, 15.77000046, 15.5       ,\n",
       "        15.36999989, 15.14999962, 15.01000023, 14.84000015, 14.85000038,\n",
       "        14.60999966, 14.94999981, 15.31000042, 14.59000015, 14.5       ,\n",
       "        14.06000042, 14.10000038, 14.64999962, 14.60000038, 14.10999966,\n",
       "        13.5       , 13.52000046, 14.01000023, 14.03999996, 14.17000008,\n",
       "        14.25      , 14.43999958, 13.71000004, 13.56000042, 13.47000027,\n",
       "        13.26000023, 13.52000046, 13.92000008, 13.71000004, 13.85000038,\n",
       "        14.06000042, 20.75      , 19.38999939, 18.79999924, 18.62999916,\n",
       "        18.57999992, 19.55999947, 19.75      , 20.42000008, 18.93000031,\n",
       "        18.63999939, 17.51000023, 17.45000076, 17.09000015, 16.31999969,\n",
       "        17.31999969, 17.20999908, 18.01000023, 18.25      , 18.01000023,\n",
       "        18.02000046, 17.64999962, 17.87999916, 18.11000061, 17.51000023,\n",
       "        17.85000038, 17.20000076, 17.01000023, 16.42000008, 16.        ,\n",
       "        16.56999969, 16.56999969, 16.36000061, 16.25      , 16.20000076,\n",
       "        15.94999981, 15.86999989, 14.46000004, 14.07999992, 14.59000015,\n",
       "        14.39000034, 14.25      , 14.14999962, 14.47999954, 14.80000019,\n",
       "        14.92000008, 14.88000011, 14.57999992, 14.88000011, 14.64999962,\n",
       "        14.84000015, 15.19999981, 15.53999996, 15.63000011, 14.53999996,\n",
       "        14.69999981, 14.22999954, 14.32999992, 14.13000011, 11.02999973,\n",
       "        10.97000027, 10.78999996, 10.73999977, 10.97000027, 11.01000023,\n",
       "        11.01000023, 11.03999996, 10.97999954, 10.64999962, 10.57999992,\n",
       "        10.56999969, 10.57999992, 10.71000004, 10.73999977, 10.64999962,\n",
       "        10.60000038, 10.71000004, 10.55000019, 10.97000027, 11.39000034,\n",
       "        11.63000011, 12.31999969, 12.93000031, 13.13000011, 12.72999954,\n",
       "        13.07999992, 13.17000008, 13.42000008, 13.61999989, 13.86999989,\n",
       "        14.02000046, 14.05000019, 13.31000042, 12.80000019, 13.23999977,\n",
       "        13.19999981, 13.10000038, 13.        , 12.81999969, 13.39999962,\n",
       "        13.09000015, 13.14999962, 13.14999962, 13.21000004, 13.52999973,\n",
       "        13.64999962, 13.31000042, 13.39999962, 13.64999962, 13.35999966,\n",
       "        13.06999969, 13.42000008, 13.35000038, 13.43000031, 13.27000046,\n",
       "        13.39000034, 13.14000034, 13.39000034, 13.36999989, 12.82999992,\n",
       "        12.27000046, 12.5       , 12.38000011, 12.69999981, 12.72999954,\n",
       "        13.05000019, 13.11999989, 12.22999954, 12.31000042, 12.31000042,\n",
       "        12.56999969, 12.34000015, 12.18000031, 12.17000008, 11.89000034,\n",
       "        11.72999954, 11.43999958, 11.43999958, 11.39999962, 11.63000011,\n",
       "        11.81000042, 11.28999996, 11.17000008, 11.07999992, 10.89999962,\n",
       "        10.59000015, 10.10999966,  9.80000019,  9.93000031,  9.73999977,\n",
       "         9.89000034,  9.19999981,  9.35000038,  9.28999996,  9.18000031,\n",
       "         9.13000011,  9.15999985,  9.21000004,  9.14000034,  8.94999981,\n",
       "         9.05000019,  8.98999977,  8.80000019,  8.47999954,  8.35999966,\n",
       "         8.18000031,  8.22999954,  7.80000019,  7.76999998,  7.48000002,\n",
       "         7.        ,  6.59000015,  6.80999994,  7.17999983,  7.4000001 ,\n",
       "         7.25      ,  7.05999994,  6.80999994,  6.80999994,  6.84000015,\n",
       "         6.82000017,  6.59000015,  6.98999977,  6.28000021,  5.98999977,\n",
       "         6.42999983,  6.61000013,  7.19999981,  6.82000017,  6.9000001 ,\n",
       "         7.09000015,  7.19999981,  7.01999998,  6.78999996,  6.6500001 ,\n",
       "         6.71000004,  6.48000002,  6.82000017,  6.48999977,  6.05000019,\n",
       "         6.09000015,  6.3499999 ,  6.19999981,  6.5       ,  6.4000001 ,\n",
       "         6.51000023,  6.4000001 ,  6.51000023,  6.36000013,  6.21000004,\n",
       "         5.96999979,  5.80000019,  5.67000008,  5.75      ,  5.90999985,\n",
       "         5.86000013,  5.92000008,  5.57999992,  5.6500001 ,  5.40999985,\n",
       "         5.07000017,  4.98999977,  5.17999983,  5.42000008,  5.3499999 ,\n",
       "         5.71000004,  5.51000023,  5.78999996,  5.67999983,  5.94999981,\n",
       "         6.21000004,  6.4000001 ,  6.28000021,  6.21999979,  6.28000021,\n",
       "         6.30999994,  6.53999996,  5.63999987,  5.73999977,  6.17999983,\n",
       "         5.92999983,  5.98999977,  6.17000008,  6.4000001 ,  6.34000015,\n",
       "         6.42999983,  6.57000017,  6.67999983,  6.90999985,  6.92999983,\n",
       "         7.03999996,  8.59000015,  8.56999969,  9.10000038,  8.98999977,\n",
       "         8.80000019,  9.06999969,  9.18999958,  9.11999989,  9.27999973,\n",
       "         9.23999977,  9.39000034,  9.71000004, 10.11999989, 10.07999992,\n",
       "         9.81000042,  9.80000019]])"
      ]
     },
     "execution_count": 55,
     "metadata": {},
     "output_type": "execute_result"
    }
   ],
   "source": [
    "X"
   ]
  },
  {
   "cell_type": "code",
   "execution_count": 52,
   "metadata": {},
   "outputs": [
    {
     "ename": "AttributeError",
     "evalue": "'numpy.ndarray' object has no attribute 'values'",
     "output_type": "error",
     "traceback": [
      "\u001b[1;31m---------------------------------------------------------------------------\u001b[0m",
      "\u001b[1;31mAttributeError\u001b[0m                            Traceback (most recent call last)",
      "\u001b[1;32m<ipython-input-52-7d01be6f817a>\u001b[0m in \u001b[0;36m<module>\u001b[1;34m\u001b[0m\n\u001b[1;32m----> 1\u001b[1;33m \u001b[0mX\u001b[0m\u001b[1;33m.\u001b[0m\u001b[0mvalues\u001b[0m\u001b[1;33m\u001b[0m\u001b[1;33m\u001b[0m\u001b[0m\n\u001b[0m",
      "\u001b[1;31mAttributeError\u001b[0m: 'numpy.ndarray' object has no attribute 'values'"
     ]
    }
   ],
   "source": [
    "X.values"
   ]
  },
  {
   "cell_type": "code",
   "execution_count": 56,
   "metadata": {},
   "outputs": [],
   "source": [
    "lr = LinearRegression()"
   ]
  },
  {
   "cell_type": "code",
   "execution_count": 57,
   "metadata": {},
   "outputs": [
    {
     "data": {
      "text/plain": [
       "LinearRegression()"
      ]
     },
     "execution_count": 57,
     "metadata": {},
     "output_type": "execute_result"
    }
   ],
   "source": [
    "lr.fit(X,y)"
   ]
  },
  {
   "cell_type": "markdown",
   "metadata": {},
   "source": [
    "#### Predict, plot, and score on MAE."
   ]
  },
  {
   "cell_type": "code",
   "execution_count": 61,
   "metadata": {},
   "outputs": [],
   "source": [
    "y_preds = lr.predict(X)"
   ]
  },
  {
   "cell_type": "code",
   "execution_count": 62,
   "metadata": {},
   "outputs": [
    {
     "ename": "AttributeError",
     "evalue": "module 'matplotlib' has no attribute 'plot'",
     "output_type": "error",
     "traceback": [
      "\u001b[1;31m---------------------------------------------------------------------------\u001b[0m",
      "\u001b[1;31mAttributeError\u001b[0m                            Traceback (most recent call last)",
      "\u001b[1;32m<ipython-input-62-d3fad505943b>\u001b[0m in \u001b[0;36m<module>\u001b[1;34m\u001b[0m\n\u001b[1;32m----> 1\u001b[1;33m \u001b[0mplt\u001b[0m\u001b[1;33m.\u001b[0m\u001b[0mplot\u001b[0m\u001b[1;33m(\u001b[0m\u001b[0mX\u001b[0m\u001b[1;33m,\u001b[0m \u001b[0my_preds\u001b[0m\u001b[1;33m)\u001b[0m\u001b[1;33m\u001b[0m\u001b[1;33m\u001b[0m\u001b[0m\n\u001b[0m",
      "\u001b[1;31mAttributeError\u001b[0m: module 'matplotlib' has no attribute 'plot'"
     ]
    }
   ],
   "source": [
    "plt.plot(X, y_preds)"
   ]
  },
  {
   "cell_type": "code",
   "execution_count": 60,
   "metadata": {},
   "outputs": [
    {
     "ename": "ValueError",
     "evalue": "y_true and y_pred have different number of output (502!=503)",
     "output_type": "error",
     "traceback": [
      "\u001b[1;31m---------------------------------------------------------------------------\u001b[0m",
      "\u001b[1;31mValueError\u001b[0m                                Traceback (most recent call last)",
      "\u001b[1;32m<ipython-input-60-3b8e63471c42>\u001b[0m in \u001b[0;36m<module>\u001b[1;34m\u001b[0m\n\u001b[1;32m----> 1\u001b[1;33m \u001b[0mmae\u001b[0m\u001b[1;33m(\u001b[0m\u001b[0mX\u001b[0m\u001b[1;33m,\u001b[0m \u001b[0my_preds\u001b[0m\u001b[1;33m)\u001b[0m\u001b[1;33m\u001b[0m\u001b[1;33m\u001b[0m\u001b[0m\n\u001b[0m",
      "\u001b[1;32mc:\\users\\cmo\\anaconda3\\envs\\sktime\\lib\\site-packages\\sklearn\\utils\\validation.py\u001b[0m in \u001b[0;36minner_f\u001b[1;34m(*args, **kwargs)\u001b[0m\n\u001b[0;32m     70\u001b[0m                           FutureWarning)\n\u001b[0;32m     71\u001b[0m         \u001b[0mkwargs\u001b[0m\u001b[1;33m.\u001b[0m\u001b[0mupdate\u001b[0m\u001b[1;33m(\u001b[0m\u001b[1;33m{\u001b[0m\u001b[0mk\u001b[0m\u001b[1;33m:\u001b[0m \u001b[0marg\u001b[0m \u001b[1;32mfor\u001b[0m \u001b[0mk\u001b[0m\u001b[1;33m,\u001b[0m \u001b[0marg\u001b[0m \u001b[1;32min\u001b[0m \u001b[0mzip\u001b[0m\u001b[1;33m(\u001b[0m\u001b[0msig\u001b[0m\u001b[1;33m.\u001b[0m\u001b[0mparameters\u001b[0m\u001b[1;33m,\u001b[0m \u001b[0margs\u001b[0m\u001b[1;33m)\u001b[0m\u001b[1;33m}\u001b[0m\u001b[1;33m)\u001b[0m\u001b[1;33m\u001b[0m\u001b[1;33m\u001b[0m\u001b[0m\n\u001b[1;32m---> 72\u001b[1;33m         \u001b[1;32mreturn\u001b[0m \u001b[0mf\u001b[0m\u001b[1;33m(\u001b[0m\u001b[1;33m**\u001b[0m\u001b[0mkwargs\u001b[0m\u001b[1;33m)\u001b[0m\u001b[1;33m\u001b[0m\u001b[1;33m\u001b[0m\u001b[0m\n\u001b[0m\u001b[0;32m     73\u001b[0m     \u001b[1;32mreturn\u001b[0m \u001b[0minner_f\u001b[0m\u001b[1;33m\u001b[0m\u001b[1;33m\u001b[0m\u001b[0m\n\u001b[0;32m     74\u001b[0m \u001b[1;33m\u001b[0m\u001b[0m\n",
      "\u001b[1;32mc:\\users\\cmo\\anaconda3\\envs\\sktime\\lib\\site-packages\\sklearn\\metrics\\_regression.py\u001b[0m in \u001b[0;36mmean_absolute_error\u001b[1;34m(y_true, y_pred, sample_weight, multioutput)\u001b[0m\n\u001b[0;32m    176\u001b[0m     \u001b[1;36m0.85\u001b[0m\u001b[1;33m...\u001b[0m\u001b[1;33m\u001b[0m\u001b[1;33m\u001b[0m\u001b[0m\n\u001b[0;32m    177\u001b[0m     \"\"\"\n\u001b[1;32m--> 178\u001b[1;33m     y_type, y_true, y_pred, multioutput = _check_reg_targets(\n\u001b[0m\u001b[0;32m    179\u001b[0m         y_true, y_pred, multioutput)\n\u001b[0;32m    180\u001b[0m     \u001b[0mcheck_consistent_length\u001b[0m\u001b[1;33m(\u001b[0m\u001b[0my_true\u001b[0m\u001b[1;33m,\u001b[0m \u001b[0my_pred\u001b[0m\u001b[1;33m,\u001b[0m \u001b[0msample_weight\u001b[0m\u001b[1;33m)\u001b[0m\u001b[1;33m\u001b[0m\u001b[1;33m\u001b[0m\u001b[0m\n",
      "\u001b[1;32mc:\\users\\cmo\\anaconda3\\envs\\sktime\\lib\\site-packages\\sklearn\\metrics\\_regression.py\u001b[0m in \u001b[0;36m_check_reg_targets\u001b[1;34m(y_true, y_pred, multioutput, dtype)\u001b[0m\n\u001b[0;32m     93\u001b[0m \u001b[1;33m\u001b[0m\u001b[0m\n\u001b[0;32m     94\u001b[0m     \u001b[1;32mif\u001b[0m \u001b[0my_true\u001b[0m\u001b[1;33m.\u001b[0m\u001b[0mshape\u001b[0m\u001b[1;33m[\u001b[0m\u001b[1;36m1\u001b[0m\u001b[1;33m]\u001b[0m \u001b[1;33m!=\u001b[0m \u001b[0my_pred\u001b[0m\u001b[1;33m.\u001b[0m\u001b[0mshape\u001b[0m\u001b[1;33m[\u001b[0m\u001b[1;36m1\u001b[0m\u001b[1;33m]\u001b[0m\u001b[1;33m:\u001b[0m\u001b[1;33m\u001b[0m\u001b[1;33m\u001b[0m\u001b[0m\n\u001b[1;32m---> 95\u001b[1;33m         raise ValueError(\"y_true and y_pred have different number of output \"\n\u001b[0m\u001b[0;32m     96\u001b[0m                          \"({0}!={1})\".format(y_true.shape[1], y_pred.shape[1]))\n\u001b[0;32m     97\u001b[0m \u001b[1;33m\u001b[0m\u001b[0m\n",
      "\u001b[1;31mValueError\u001b[0m: y_true and y_pred have different number of output (502!=503)"
     ]
    }
   ],
   "source": [
    "mae(X, y_preds)"
   ]
  },
  {
   "cell_type": "markdown",
   "metadata": {},
   "source": [
    "#### How does the model do?"
   ]
  },
  {
   "cell_type": "code",
   "execution_count": null,
   "metadata": {},
   "outputs": [],
   "source": []
  },
  {
   "cell_type": "markdown",
   "metadata": {},
   "source": [
    "#### Congratulations! You just made an autoregression model (AR)! 🎉"
   ]
  }
 ],
 "metadata": {
  "kernelspec": {
   "display_name": "Python 3",
   "language": "python",
   "name": "python3"
  },
  "language_info": {
   "codemirror_mode": {
    "name": "ipython",
    "version": 3
   },
   "file_extension": ".py",
   "mimetype": "text/x-python",
   "name": "python",
   "nbconvert_exporter": "python",
   "pygments_lexer": "ipython3",
   "version": "3.8.5"
  }
 },
 "nbformat": 4,
 "nbformat_minor": 4
}
