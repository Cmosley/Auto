{
 "cells": [
  {
   "cell_type": "markdown",
   "metadata": {},
   "source": [
    "**KPI's**"
   ]
  },
  {
   "cell_type": "code",
   "execution_count": 30,
   "metadata": {},
   "outputs": [],
   "source": [
    "import pandas as pd"
   ]
  },
  {
   "cell_type": "code",
   "execution_count": 48,
   "metadata": {},
   "outputs": [],
   "source": [
    "kpi_ytd = pd.read_csv('./data/206/KPI-by-day-2020.csv')\n",
    "\n",
    "kpi_ytd.rename(columns={\"Store Ticket Count\": \"Car Count\", \"Net Sales Amount\": \"Net Sales\", \"Ticket Average Net\": \"Ticket Avg\", \"Cost of Goods as a Percent of Net Sales\": \"COGS %\", \"Labor Percent of Net Sales\": \"Labor %\"}, inplace=True)\n",
    "\n",
    "kpi_ytd.drop(columns=['Date', 'Cost of Goods Sold Amount'], inplace=True)"
   ]
  },
  {
   "cell_type": "code",
   "execution_count": 51,
   "metadata": {},
   "outputs": [],
   "source": [
    "kpi_ytd.to_csv('./datasets/df_kpi.csv')"
   ]
  },
  {
   "cell_type": "code",
   "execution_count": null,
   "metadata": {},
   "outputs": [],
   "source": []
  },
  {
   "cell_type": "code",
   "execution_count": 50,
   "metadata": {},
   "outputs": [
    {
     "data": {
      "text/html": [
       "<div>\n",
       "<style scoped>\n",
       "    .dataframe tbody tr th:only-of-type {\n",
       "        vertical-align: middle;\n",
       "    }\n",
       "\n",
       "    .dataframe tbody tr th {\n",
       "        vertical-align: top;\n",
       "    }\n",
       "\n",
       "    .dataframe thead th {\n",
       "        text-align: right;\n",
       "    }\n",
       "</style>\n",
       "<table border=\"1\" class=\"dataframe\">\n",
       "  <thead>\n",
       "    <tr style=\"text-align: right;\">\n",
       "      <th></th>\n",
       "      <th>Car Count</th>\n",
       "      <th>Net Amount</th>\n",
       "      <th>Ticket Average</th>\n",
       "      <th>COGS</th>\n",
       "      <th>Margin</th>\n",
       "      <th>Margin %</th>\n",
       "    </tr>\n",
       "  </thead>\n",
       "  <tbody>\n",
       "    <tr>\n",
       "      <th>0</th>\n",
       "      <td>18,410</td>\n",
       "      <td>$1,925,487.12</td>\n",
       "      <td>$104.59</td>\n",
       "      <td>$385,742.11</td>\n",
       "      <td>$1,539,745.01</td>\n",
       "      <td>80%</td>\n",
       "    </tr>\n",
       "    <tr>\n",
       "      <th>1</th>\n",
       "      <td>4,969</td>\n",
       "      <td>$623,672.45</td>\n",
       "      <td>$125.51</td>\n",
       "      <td>$132,350.86</td>\n",
       "      <td>$491,321.59</td>\n",
       "      <td>79%</td>\n",
       "    </tr>\n",
       "    <tr>\n",
       "      <th>2</th>\n",
       "      <td>13,441</td>\n",
       "      <td>$1,301,814.67</td>\n",
       "      <td>$96.85</td>\n",
       "      <td>$253,391.25</td>\n",
       "      <td>$1,048,423.42</td>\n",
       "      <td>81%</td>\n",
       "    </tr>\n",
       "    <tr>\n",
       "      <th>3</th>\n",
       "      <td>2,590</td>\n",
       "      <td>$324,901.08</td>\n",
       "      <td>$125.44</td>\n",
       "      <td>$74,286.59</td>\n",
       "      <td>$250,614.49</td>\n",
       "      <td>77%</td>\n",
       "    </tr>\n",
       "    <tr>\n",
       "      <th>4</th>\n",
       "      <td>15,820</td>\n",
       "      <td>$1,600,586.04</td>\n",
       "      <td>$101.17</td>\n",
       "      <td>$311,455.52</td>\n",
       "      <td>$1,289,130.52</td>\n",
       "      <td>81%</td>\n",
       "    </tr>\n",
       "  </tbody>\n",
       "</table>\n",
       "</div>"
      ],
      "text/plain": [
       "0 Car Count     Net Amount Ticket Average         COGS         Margin Margin %\n",
       "0    18,410  $1,925,487.12        $104.59  $385,742.11  $1,539,745.01      80%\n",
       "1     4,969    $623,672.45        $125.51  $132,350.86    $491,321.59      79%\n",
       "2    13,441  $1,301,814.67         $96.85  $253,391.25  $1,048,423.42      81%\n",
       "3     2,590    $324,901.08        $125.44   $74,286.59    $250,614.49      77%\n",
       "4    15,820  $1,600,586.04        $101.17  $311,455.52  $1,289,130.52      81%"
      ]
     },
     "execution_count": 50,
     "metadata": {},
     "output_type": "execute_result"
    }
   ],
   "source": [
    "df_ytd = pd.read_csv('./data/206/Total Sales Summary-YTD.csv')\n",
    "\n",
    "df_ytd.drop(columns=['Unnamed: 0', 'Gross', 'Gross.1', 'Unnamed: 4', 'Unnamed: 11', 'Unnamed: 10'],axis=1, inplace=True)\n",
    "\n",
    "df_ytd.columns = df_ytd.iloc[0]\n",
    "df_ytd = df_ytd[1:]\n",
    "\n",
    "df_ytd = df_ytd.reset_index(drop=True)\n",
    "\n",
    "df_ytd.rename(columns={\"Invoice Count\": \"Car Count\", \"Net Amounts\": \"Net Sales\", \"Cost of Goods Sold Amount\": \"COGS\"}, inplace=True)\n",
    "\n",
    "df_ytd.head()\n",
    "\n",
    "\n"
   ]
  },
  {
   "cell_type": "code",
   "execution_count": null,
   "metadata": {},
   "outputs": [],
   "source": [
    "df_ytd.to_csv('./datasets/KPI-YTD.csv')"
   ]
  },
  {
   "cell_type": "code",
   "execution_count": 17,
   "metadata": {},
   "outputs": [],
   "source": [
    "df_mtd = pd.read_csv('./data/206/Total Sales Summary-MTD.csv')\n",
    "\n",
    "df_mtd.drop(columns=['Unnamed: 0', 'Gross', 'Gross.1', 'Unnamed: 4', 'Unnamed: 11', 'Unnamed: 10'],axis=1, inplace=True)\n",
    "\n",
    "df_mtd.columns = df_ytd.iloc[0]\n",
    "df_mtd = df_ytd[1:]\n",
    "\n",
    "df_mtd = df_mtd.reset_index(drop=True)\n",
    "\n",
    "df_mtd.rename(columns={\"Invoice Count\": \"Car Count\", \"Net Amounts\": \"Net Sales\", \"Cost of Goods Sold Amount\": \"COGS\"}, inplace=True)\n",
    "\n",
    "df_mtd.head()\n",
    "\n",
    "df_mtd.to_csv('./datasets/KPI-MTD.csv')"
   ]
  },
  {
   "cell_type": "code",
   "execution_count": null,
   "metadata": {},
   "outputs": [],
   "source": []
  },
  {
   "cell_type": "code",
   "execution_count": 16,
   "metadata": {},
   "outputs": [],
   "source": [
    "df_wtd = pd.read_csv('./data/206/Total Sales Summary-WTD.csv')\n",
    "\n",
    "df_wtd.drop(columns=['Unnamed: 0', 'Gross', 'Gross.1', 'Unnamed: 4', 'Unnamed: 11', 'Unnamed: 10'],axis=1, inplace=True)\n",
    "\n",
    "df_wtd.columns = df_ytd.iloc[0]\n",
    "df_wtd = df_ytd[1:]\n",
    "\n",
    "df_wtd = df_wtd.reset_index(drop=True)\n",
    "\n",
    "df_wtd.rename(columns={\"Invoice Count\": \"Car Count\", \"Net Amounts\": \"Net Sales\", \"Cost of Goods Sold Amount\": \"COGS\"}, inplace=True)\n",
    "\n",
    "df_wtd.head()\n",
    "\n",
    "df_wtd.to_csv('./datasets/KPI-WTD.csv')"
   ]
  },
  {
   "cell_type": "code",
   "execution_count": null,
   "metadata": {},
   "outputs": [],
   "source": []
  }
 ],
 "metadata": {
  "kernelspec": {
   "display_name": "Python 3",
   "language": "python",
   "name": "python3"
  },
  "language_info": {
   "codemirror_mode": {
    "name": "ipython",
    "version": 3
   },
   "file_extension": ".py",
   "mimetype": "text/x-python",
   "name": "python",
   "nbconvert_exporter": "python",
   "pygments_lexer": "ipython3",
   "version": "3.8.5"
  }
 },
 "nbformat": 4,
 "nbformat_minor": 4
}
