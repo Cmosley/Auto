{
 "cells": [
  {
   "cell_type": "code",
   "execution_count": 104,
   "metadata": {},
   "outputs": [],
   "source": [
    "import pandas as pd"
   ]
  },
  {
   "cell_type": "code",
   "execution_count": 105,
   "metadata": {},
   "outputs": [],
   "source": [
    "df = pd.read_csv('./data/206/Daily-Sales-206-2018-2019.csv')"
   ]
  },
  {
   "cell_type": "code",
   "execution_count": 22,
   "metadata": {},
   "outputs": [],
   "source": [
    "df['Date'] = pd.to_datetime(df['Date'])"
   ]
  },
  {
   "cell_type": "code",
   "execution_count": 9,
   "metadata": {},
   "outputs": [],
   "source": [
    "df.set_index('Date', inplace=True)"
   ]
  },
  {
   "cell_type": "code",
   "execution_count": 106,
   "metadata": {},
   "outputs": [
    {
     "data": {
      "text/plain": [
       "Index(['Store Number', 'Date', 'Gross Amount', 'Net Amount',\n",
       "       'Store Ticket Net Amount', 'Warranty Amount',\n",
       "       'Average Included Bay Time', 'Store Ticket Count',\n",
       "       'Store Ticket Average Net', 'Promotion Amount'],\n",
       "      dtype='object')"
      ]
     },
     "execution_count": 106,
     "metadata": {},
     "output_type": "execute_result"
    }
   ],
   "source": [
    "df.columns"
   ]
  },
  {
   "cell_type": "code",
   "execution_count": 75,
   "metadata": {},
   "outputs": [
    {
     "data": {
      "text/plain": [
       "ds    datetime64[ns]\n",
       "y             object\n",
       "dtype: object"
      ]
     },
     "execution_count": 75,
     "metadata": {},
     "output_type": "execute_result"
    }
   ],
   "source": [
    "df.dtypes"
   ]
  },
  {
   "cell_type": "code",
   "execution_count": 24,
   "metadata": {},
   "outputs": [
    {
     "data": {
      "text/html": [
       "<div>\n",
       "<style scoped>\n",
       "    .dataframe tbody tr th:only-of-type {\n",
       "        vertical-align: middle;\n",
       "    }\n",
       "\n",
       "    .dataframe tbody tr th {\n",
       "        vertical-align: top;\n",
       "    }\n",
       "\n",
       "    .dataframe thead th {\n",
       "        text-align: right;\n",
       "    }\n",
       "</style>\n",
       "<table border=\"1\" class=\"dataframe\">\n",
       "  <thead>\n",
       "    <tr style=\"text-align: right;\">\n",
       "      <th></th>\n",
       "      <th>Store Number</th>\n",
       "      <th>Date</th>\n",
       "      <th>Gross Amount</th>\n",
       "      <th>Net Amount</th>\n",
       "      <th>Store Ticket Net Amount</th>\n",
       "      <th>Warranty Amount</th>\n",
       "      <th>Average Included Bay Time</th>\n",
       "      <th>Store Ticket Count</th>\n",
       "      <th>Store Ticket Average Net</th>\n",
       "      <th>Promotion Amount</th>\n",
       "    </tr>\n",
       "  </thead>\n",
       "  <tbody>\n",
       "    <tr>\n",
       "      <th>0</th>\n",
       "      <td>206</td>\n",
       "      <td>2018-01-02</td>\n",
       "      <td>$9,956.10</td>\n",
       "      <td>$9,266.48</td>\n",
       "      <td>$9,266.48</td>\n",
       "      <td>$0.00</td>\n",
       "      <td>14.2</td>\n",
       "      <td>65</td>\n",
       "      <td>$142.56</td>\n",
       "      <td>$689.62</td>\n",
       "    </tr>\n",
       "    <tr>\n",
       "      <th>1</th>\n",
       "      <td>NaN</td>\n",
       "      <td>2018-01-03</td>\n",
       "      <td>$10,496.51</td>\n",
       "      <td>$10,216.44</td>\n",
       "      <td>$10,209.44</td>\n",
       "      <td>$0.00</td>\n",
       "      <td>11.3</td>\n",
       "      <td>77</td>\n",
       "      <td>$132.59</td>\n",
       "      <td>$280.07</td>\n",
       "    </tr>\n",
       "    <tr>\n",
       "      <th>2</th>\n",
       "      <td>NaN</td>\n",
       "      <td>2018-01-04</td>\n",
       "      <td>$5,391.78</td>\n",
       "      <td>$5,064.18</td>\n",
       "      <td>$5,030.19</td>\n",
       "      <td>$0.00</td>\n",
       "      <td>14.8</td>\n",
       "      <td>64</td>\n",
       "      <td>$78.60</td>\n",
       "      <td>$327.60</td>\n",
       "    </tr>\n",
       "    <tr>\n",
       "      <th>3</th>\n",
       "      <td>NaN</td>\n",
       "      <td>2018-01-05</td>\n",
       "      <td>$10,007.91</td>\n",
       "      <td>$9,522.35</td>\n",
       "      <td>$9,522.35</td>\n",
       "      <td>$0.00</td>\n",
       "      <td>12.5</td>\n",
       "      <td>80</td>\n",
       "      <td>$119.03</td>\n",
       "      <td>$485.56</td>\n",
       "    </tr>\n",
       "    <tr>\n",
       "      <th>4</th>\n",
       "      <td>NaN</td>\n",
       "      <td>2018-01-06</td>\n",
       "      <td>$11,541.99</td>\n",
       "      <td>$10,791.46</td>\n",
       "      <td>$10,784.46</td>\n",
       "      <td>$0.00</td>\n",
       "      <td>13.2</td>\n",
       "      <td>93</td>\n",
       "      <td>$115.96</td>\n",
       "      <td>$750.53</td>\n",
       "    </tr>\n",
       "  </tbody>\n",
       "</table>\n",
       "</div>"
      ],
      "text/plain": [
       "  Store Number       Date Gross Amount  Net Amount Store Ticket Net Amount  \\\n",
       "0          206 2018-01-02    $9,956.10   $9,266.48               $9,266.48   \n",
       "1          NaN 2018-01-03   $10,496.51  $10,216.44              $10,209.44   \n",
       "2          NaN 2018-01-04    $5,391.78   $5,064.18               $5,030.19   \n",
       "3          NaN 2018-01-05   $10,007.91   $9,522.35               $9,522.35   \n",
       "4          NaN 2018-01-06   $11,541.99  $10,791.46              $10,784.46   \n",
       "\n",
       "  Warranty Amount  Average Included Bay Time Store Ticket Count  \\\n",
       "0           $0.00                       14.2                 65   \n",
       "1           $0.00                       11.3                 77   \n",
       "2           $0.00                       14.8                 64   \n",
       "3           $0.00                       12.5                 80   \n",
       "4           $0.00                       13.2                 93   \n",
       "\n",
       "  Store Ticket Average Net Promotion Amount  \n",
       "0                  $142.56          $689.62  \n",
       "1                  $132.59          $280.07  \n",
       "2                   $78.60          $327.60  \n",
       "3                  $119.03          $485.56  \n",
       "4                  $115.96          $750.53  "
      ]
     },
     "execution_count": 24,
     "metadata": {},
     "output_type": "execute_result"
    }
   ],
   "source": [
    "df.head()"
   ]
  },
  {
   "cell_type": "code",
   "execution_count": 107,
   "metadata": {},
   "outputs": [],
   "source": [
    "df.drop(columns=(['Store Number', 'Gross Amount', 'Store Ticket Net Amount',\n",
    "       'Warranty Amount', 'Average Included Bay Time', 'Store Ticket Count',\n",
    "       'Store Ticket Average Net', 'Promotion Amount']), inplace=True)"
   ]
  },
  {
   "cell_type": "code",
   "execution_count": 108,
   "metadata": {},
   "outputs": [
    {
     "data": {
      "text/html": [
       "<div>\n",
       "<style scoped>\n",
       "    .dataframe tbody tr th:only-of-type {\n",
       "        vertical-align: middle;\n",
       "    }\n",
       "\n",
       "    .dataframe tbody tr th {\n",
       "        vertical-align: top;\n",
       "    }\n",
       "\n",
       "    .dataframe thead th {\n",
       "        text-align: right;\n",
       "    }\n",
       "</style>\n",
       "<table border=\"1\" class=\"dataframe\">\n",
       "  <thead>\n",
       "    <tr style=\"text-align: right;\">\n",
       "      <th></th>\n",
       "      <th>Date</th>\n",
       "      <th>Net Amount</th>\n",
       "    </tr>\n",
       "  </thead>\n",
       "  <tbody>\n",
       "    <tr>\n",
       "      <th>0</th>\n",
       "      <td>01/02/2018</td>\n",
       "      <td>$9,266.48</td>\n",
       "    </tr>\n",
       "    <tr>\n",
       "      <th>1</th>\n",
       "      <td>01/03/2018</td>\n",
       "      <td>$10,216.44</td>\n",
       "    </tr>\n",
       "    <tr>\n",
       "      <th>2</th>\n",
       "      <td>01/04/2018</td>\n",
       "      <td>$5,064.18</td>\n",
       "    </tr>\n",
       "    <tr>\n",
       "      <th>3</th>\n",
       "      <td>01/05/2018</td>\n",
       "      <td>$9,522.35</td>\n",
       "    </tr>\n",
       "    <tr>\n",
       "      <th>4</th>\n",
       "      <td>01/06/2018</td>\n",
       "      <td>$10,791.46</td>\n",
       "    </tr>\n",
       "    <tr>\n",
       "      <th>...</th>\n",
       "      <td>...</td>\n",
       "      <td>...</td>\n",
       "    </tr>\n",
       "    <tr>\n",
       "      <th>717</th>\n",
       "      <td>12/29/2019</td>\n",
       "      <td>$5,255.06</td>\n",
       "    </tr>\n",
       "    <tr>\n",
       "      <th>718</th>\n",
       "      <td>12/30/2019</td>\n",
       "      <td>$7,505.02</td>\n",
       "    </tr>\n",
       "    <tr>\n",
       "      <th>719</th>\n",
       "      <td>12/31/2019</td>\n",
       "      <td>$9,298.84</td>\n",
       "    </tr>\n",
       "    <tr>\n",
       "      <th>720</th>\n",
       "      <td>NaN</td>\n",
       "      <td>$4,664,258.12</td>\n",
       "    </tr>\n",
       "    <tr>\n",
       "      <th>721</th>\n",
       "      <td>NaN</td>\n",
       "      <td>$4,664,258.12</td>\n",
       "    </tr>\n",
       "  </tbody>\n",
       "</table>\n",
       "<p>722 rows × 2 columns</p>\n",
       "</div>"
      ],
      "text/plain": [
       "           Date     Net Amount\n",
       "0    01/02/2018      $9,266.48\n",
       "1    01/03/2018     $10,216.44\n",
       "2    01/04/2018      $5,064.18\n",
       "3    01/05/2018      $9,522.35\n",
       "4    01/06/2018     $10,791.46\n",
       "..          ...            ...\n",
       "717  12/29/2019      $5,255.06\n",
       "718  12/30/2019      $7,505.02\n",
       "719  12/31/2019      $9,298.84\n",
       "720         NaN  $4,664,258.12\n",
       "721         NaN  $4,664,258.12\n",
       "\n",
       "[722 rows x 2 columns]"
      ]
     },
     "execution_count": 108,
     "metadata": {},
     "output_type": "execute_result"
    }
   ],
   "source": [
    "df"
   ]
  },
  {
   "cell_type": "code",
   "execution_count": 109,
   "metadata": {},
   "outputs": [],
   "source": [
    "df.rename(columns={\"Date\": \"ds\", \"Net Amount\": \"y\"}, inplace=True)"
   ]
  },
  {
   "cell_type": "code",
   "execution_count": 110,
   "metadata": {},
   "outputs": [],
   "source": [
    "df.dropna(inplace=True)"
   ]
  },
  {
   "cell_type": "code",
   "execution_count": 68,
   "metadata": {},
   "outputs": [],
   "source": []
  },
  {
   "cell_type": "code",
   "execution_count": 122,
   "metadata": {},
   "outputs": [],
   "source": [
    "df['y'] = df['y'].str.replace('$', '').str.replace(',', '')"
   ]
  },
  {
   "cell_type": "code",
   "execution_count": 123,
   "metadata": {},
   "outputs": [
    {
     "data": {
      "text/html": [
       "<div>\n",
       "<style scoped>\n",
       "    .dataframe tbody tr th:only-of-type {\n",
       "        vertical-align: middle;\n",
       "    }\n",
       "\n",
       "    .dataframe tbody tr th {\n",
       "        vertical-align: top;\n",
       "    }\n",
       "\n",
       "    .dataframe thead th {\n",
       "        text-align: right;\n",
       "    }\n",
       "</style>\n",
       "<table border=\"1\" class=\"dataframe\">\n",
       "  <thead>\n",
       "    <tr style=\"text-align: right;\">\n",
       "      <th></th>\n",
       "      <th>ds</th>\n",
       "      <th>y</th>\n",
       "    </tr>\n",
       "  </thead>\n",
       "  <tbody>\n",
       "    <tr>\n",
       "      <th>0</th>\n",
       "      <td>01/02/2018</td>\n",
       "      <td>9266.48</td>\n",
       "    </tr>\n",
       "    <tr>\n",
       "      <th>1</th>\n",
       "      <td>01/03/2018</td>\n",
       "      <td>10216.44</td>\n",
       "    </tr>\n",
       "    <tr>\n",
       "      <th>2</th>\n",
       "      <td>01/04/2018</td>\n",
       "      <td>5064.18</td>\n",
       "    </tr>\n",
       "    <tr>\n",
       "      <th>3</th>\n",
       "      <td>01/05/2018</td>\n",
       "      <td>9522.35</td>\n",
       "    </tr>\n",
       "    <tr>\n",
       "      <th>4</th>\n",
       "      <td>01/06/2018</td>\n",
       "      <td>10791.46</td>\n",
       "    </tr>\n",
       "    <tr>\n",
       "      <th>...</th>\n",
       "      <td>...</td>\n",
       "      <td>...</td>\n",
       "    </tr>\n",
       "    <tr>\n",
       "      <th>715</th>\n",
       "      <td>12/27/2019</td>\n",
       "      <td>9252.11</td>\n",
       "    </tr>\n",
       "    <tr>\n",
       "      <th>716</th>\n",
       "      <td>12/28/2019</td>\n",
       "      <td>5504.25</td>\n",
       "    </tr>\n",
       "    <tr>\n",
       "      <th>717</th>\n",
       "      <td>12/29/2019</td>\n",
       "      <td>5255.06</td>\n",
       "    </tr>\n",
       "    <tr>\n",
       "      <th>718</th>\n",
       "      <td>12/30/2019</td>\n",
       "      <td>7505.02</td>\n",
       "    </tr>\n",
       "    <tr>\n",
       "      <th>719</th>\n",
       "      <td>12/31/2019</td>\n",
       "      <td>9298.84</td>\n",
       "    </tr>\n",
       "  </tbody>\n",
       "</table>\n",
       "<p>720 rows × 2 columns</p>\n",
       "</div>"
      ],
      "text/plain": [
       "             ds         y\n",
       "0    01/02/2018   9266.48\n",
       "1    01/03/2018  10216.44\n",
       "2    01/04/2018   5064.18\n",
       "3    01/05/2018   9522.35\n",
       "4    01/06/2018  10791.46\n",
       "..          ...       ...\n",
       "715  12/27/2019   9252.11\n",
       "716  12/28/2019   5504.25\n",
       "717  12/29/2019   5255.06\n",
       "718  12/30/2019   7505.02\n",
       "719  12/31/2019   9298.84\n",
       "\n",
       "[720 rows x 2 columns]"
      ]
     },
     "execution_count": 123,
     "metadata": {},
     "output_type": "execute_result"
    }
   ],
   "source": [
    "df"
   ]
  },
  {
   "cell_type": "code",
   "execution_count": 124,
   "metadata": {},
   "outputs": [
    {
     "data": {
      "text/plain": [
       "ds    object\n",
       "y     object\n",
       "dtype: object"
      ]
     },
     "execution_count": 124,
     "metadata": {},
     "output_type": "execute_result"
    }
   ],
   "source": [
    "df.dtypes"
   ]
  },
  {
   "cell_type": "code",
   "execution_count": 126,
   "metadata": {},
   "outputs": [],
   "source": [
    "df['y'] = pd.to_numeric(df['y'])"
   ]
  },
  {
   "cell_type": "code",
   "execution_count": 127,
   "metadata": {},
   "outputs": [
    {
     "data": {
      "text/plain": [
       "ds     object\n",
       "y     float64\n",
       "dtype: object"
      ]
     },
     "execution_count": 127,
     "metadata": {},
     "output_type": "execute_result"
    }
   ],
   "source": [
    "df.dtypes"
   ]
  },
  {
   "cell_type": "code",
   "execution_count": 91,
   "metadata": {},
   "outputs": [],
   "source": []
  },
  {
   "cell_type": "code",
   "execution_count": 128,
   "metadata": {},
   "outputs": [],
   "source": [
    "df.to_csv('Forecast-ex.csv', index=False)"
   ]
  },
  {
   "cell_type": "code",
   "execution_count": null,
   "metadata": {},
   "outputs": [],
   "source": []
  }
 ],
 "metadata": {
  "kernelspec": {
   "display_name": "Python 3",
   "language": "python",
   "name": "python3"
  },
  "language_info": {
   "codemirror_mode": {
    "name": "ipython",
    "version": 3
   },
   "file_extension": ".py",
   "mimetype": "text/x-python",
   "name": "python",
   "nbconvert_exporter": "python",
   "pygments_lexer": "ipython3",
   "version": "3.8.5"
  }
 },
 "nbformat": 4,
 "nbformat_minor": 4
}
